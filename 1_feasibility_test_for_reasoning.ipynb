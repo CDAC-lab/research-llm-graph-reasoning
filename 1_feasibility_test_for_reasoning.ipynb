{
 "cells": [
  {
   "cell_type": "code",
   "id": "initial_id",
   "metadata": {
    "collapsed": true,
    "ExecuteTime": {
     "end_time": "2025-05-12T16:19:17.758571Z",
     "start_time": "2025-05-12T16:19:13.804251Z"
    }
   },
   "source": [
    "import os\n",
    "from dotenv import load_dotenv\n",
    "from langchain_openai import ChatOpenAI\n",
    "from langchain_core.output_parsers import StrOutputParser\n",
    "from langchain_core.prompts import ChatPromptTemplate\n",
    "from langchain_core.globals import set_debug, set_verbose, set_llm_cache\n",
    "from langchain_community.cache import InMemoryCache\n",
    "\n",
    "set_debug(False)\n",
    "set_verbose(False)\n",
    "set_llm_cache(InMemoryCache())"
   ],
   "outputs": [],
   "execution_count": 1
  },
  {
   "metadata": {
    "ExecuteTime": {
     "end_time": "2025-05-12T16:19:17.935837Z",
     "start_time": "2025-05-12T16:19:17.890580Z"
    }
   },
   "cell_type": "code",
   "source": [
    "load_dotenv()\n",
    "openai_api_key = os.getenv(\"OPENAI_API_KEY\")\n",
    "\n",
    "model = ChatOpenAI(\n",
    "    model=\"gpt-4o\",\n",
    "    api_key=openai_api_key\n",
    ")\n",
    "\n",
    "prompt_str = (\n",
    "    f\"You are an expert in understanding family relationships.\"\n",
    "    f\"You are given a list of relationships between individuals in the form of (Person A, Relationship, Person B)\"\n",
    "    f\"Your task is to figure out the relationship {{question}}\"\n",
    "    f\"\"\n",
    "    f\"list of relationships :\"\n",
    "    f\"{{relationships}} are given a list of relationships as tripples\"\n",
    ")"
   ],
   "id": "4d0579793acfec9e",
   "outputs": [],
   "execution_count": 2
  },
  {
   "metadata": {
    "ExecuteTime": {
     "end_time": "2025-05-12T16:19:23.795937Z",
     "start_time": "2025-05-12T16:19:23.785581Z"
    }
   },
   "cell_type": "code",
   "source": "prompt = ChatPromptTemplate.from_template(prompt_str)",
   "id": "794e21d1b27219ac",
   "outputs": [],
   "execution_count": 3
  },
  {
   "metadata": {
    "ExecuteTime": {
     "end_time": "2025-05-12T16:19:27.638585Z",
     "start_time": "2025-05-12T16:19:27.628407Z"
    }
   },
   "cell_type": "code",
   "source": [
    "inputs = [\n",
    "    {\n",
    "        \"relationships\": (\n",
    "            \"(Bernardo, has father, Antonio),\"\n",
    "            \"(Antonio, has son, Bernardo),\"\n",
    "            \"(Antonio, has father, Harold),\"\n",
    "            \"(Harold, has son, Antonio),\"\n",
    "            \"(Antonio, has mother, Shantel),\"\n",
    "            \"(Shantel, has son, Antonio),\"\n",
    "            \"(Shantel, has daughter, Marie),\"\n",
    "            \"(Marie, has mother, Shantel)\"\n",
    "        ),\n",
    "        \"question\": \"(Marie, ?, Harold)\"\n",
    "    },\n",
    "    {\n",
    "        \"relationships\": (\n",
    "            \"(Robert, has brother, Antonio),\"\n",
    "            \"(Robert, has daughter, Michelle),\"\n",
    "            \"(Marie, has daughter, Michelle),\"\n",
    "            \"(Marie, has baby, Baby),\"\n",
    "            \"(Marie, has mother, Shantel),\"\n",
    "            \"(Shantel, has granddaughter, Baby)\"\n",
    "        ),\n",
    "        \"question\": \"(Antonio, ?, Shantel)\"\n",
    "    },\n",
    "    {\n",
    "        \"relationships\": (\n",
    "            \"(Samuel, has grandfather, Harold),\"\n",
    "            \"(Shantel, has son, Louis),\"\n",
    "            \"(Harold, has daughter, Tracy),\"\n",
    "            \"(Samuel, has son, Louis)\"\n",
    "        ),\n",
    "        \"question\": \"(Shantel, ?, Tracy)\"\n",
    "    },\n",
    "    {\n",
    "        \"relationships\": (\n",
    "            \"(Angela, has daughter, Nancy),\"\n",
    "            \"(Hattie, has father, Samuel),\"\n",
    "            \"(Samuel, has brother, Milton),\"\n",
    "            \"(Hattie, has sister, Nancy),\"\n",
    "            \"(Milton, has daughter, Arlene)\"\n",
    "        ),\n",
    "        \"question\": \"(Angela, ?, Arlene)\"\n",
    "    }\n",
    "]"
   ],
   "id": "c1f322d53e9f0aca",
   "outputs": [],
   "execution_count": 4
  },
  {
   "metadata": {
    "ExecuteTime": {
     "end_time": "2025-05-12T16:19:29.038514Z",
     "start_time": "2025-05-12T16:19:29.015424Z"
    }
   },
   "cell_type": "code",
   "source": "chain = prompt | model | StrOutputParser()",
   "id": "24b7b57c58ee1699",
   "outputs": [],
   "execution_count": 5
  },
  {
   "metadata": {
    "ExecuteTime": {
     "end_time": "2025-05-12T16:19:36.209148Z",
     "start_time": "2025-05-12T16:19:30.487699Z"
    }
   },
   "cell_type": "code",
   "source": "answers_list = chain.batch(inputs)",
   "id": "76668d3b5f58f8bf",
   "outputs": [],
   "execution_count": 6
  },
  {
   "metadata": {
    "ExecuteTime": {
     "end_time": "2025-05-12T16:20:34.566480Z",
     "start_time": "2025-05-12T16:20:34.545408Z"
    }
   },
   "cell_type": "code",
   "source": [
    "for ans in answers_list:\n",
    "    print(ans)\n",
    "    print(\"------------------------------------------------\")"
   ],
   "id": "5eef5d7e94ef73a6",
   "outputs": [
    {
     "name": "stdout",
     "output_type": "stream",
     "text": [
      "To determine the relationship between Marie and Harold, let's summarize and analyze the given relationships:\n",
      "\n",
      "1. \\( \\text{(Bernardo, has father, Antonio)} \\)\n",
      "2. \\( \\text{(Antonio, has son, Bernardo)} \\)\n",
      "3. \\( \\text{(Antonio, has father, Harold)} \\)\n",
      "4. \\( \\text{(Harold, has son, Antonio)} \\)\n",
      "5. \\( \\text{(Antonio, has mother, Shantel)} \\)\n",
      "6. \\( \\text{(Shantel, has son, Antonio)} \\)\n",
      "7. \\( \\text{(Shantel, has daughter, Marie)} \\)\n",
      "8. \\( \\text{(Marie, has mother, Shantel)} \\)\n",
      "\n",
      "From these relationships, we can deduce the following:\n",
      "\n",
      "- Antonio and Marie are siblings because they both have the same mother, Shantel.\n",
      "- Harold is Antonio's father, making Harold Marie's father as well, as they share the same parents.\n",
      "\n",
      "Therefore, the relationship between Marie and Harold is that Harold is Marie's father.\n",
      "------------------------------------------------\n",
      "To determine the relationship between Antonio and Shantel, we can analyze the given relationships step by step:\n",
      "\n",
      "1. **(Robert, has brother, Antonio)** indicates that Antonio is Robert's brother.\n",
      "2. **(Robert, has daughter, Michelle)** indicates that Michelle is Robert's daughter.\n",
      "3. **(Marie, has daughter, Michelle)** indicates that Michelle is also Marie's daughter, which means Robert and Marie are probably married or partners.\n",
      "4. **(Marie, has baby, Baby)** suggests that Baby is Marie's child, and given the context, Baby could also be Robert's child.\n",
      "5. **(Marie, has mother, Shantel)** indicates that Shantel is Marie's mother.\n",
      "6. **(Shantel, has granddaughter, Baby)** reinforces that Shantel is the grandmother of Baby and, since Marie is Baby’s mother, Shantel is Marie's mother.\n",
      "\n",
      "Since Robert and Marie are likely partners, and Antonio is Robert's brother, Shantel (being Marie's mother) is Antonio's sister-in-law or, more specifically, Antonio's mother's partner's mother. However, these specific concepts may differ based on cultural contexts, but typically, she would be referred to as Antonio's \"mother-in-law\" if Robert and Marie are officially married.\n",
      "\n",
      "Thus, the relationship between Antonio and Shantel is likely:\n",
      "\n",
      "**(Antonio, has mother-in-law, Shantel)**\n",
      "------------------------------------------------\n",
      "To determine the relationship between Shantel and Tracy, we need to analyze the given relationships.\n",
      "\n",
      "1. **(Samuel, has grandfather, Harold)** - This means Harold is the grandfather of Samuel.\n",
      "\n",
      "2. **(Shantel, has son, Louis)** - This means Louis is the son of Shantel.\n",
      "\n",
      "3. **(Harold, has daughter, Tracy)** - This means Tracy is the daughter of Harold.\n",
      "\n",
      "4. **(Samuel, has son, Louis)** - This means Louis is the son of Samuel.\n",
      "\n",
      "Now let's connect the relationships:\n",
      "\n",
      "- From (1), we understand that Harold is the grandfather of Samuel.\n",
      "- From (3), Harold has a daughter, Tracy, meaning Tracy is Samuel's aunt if Harold is assumed to be also the grandfather through a different child.\n",
      "- From (4), Louis is the son of Samuel.\n",
      "- From (2) and (4), Shantel has a son, Louis, just as Samuel does, implying that Samuel and Shantel are the parents of Louis.\n",
      "\n",
      "Therefore, since Harold is the grandfather of Samuel and Tracy is his daughter, Tracy is the aunt of Samuel's child Louis. Shantel, being the mother of Louis, connects to Tracy through marriage (if Shantel is Samuel’s partner or spouse).\n",
      "\n",
      "Thus, the relationship between Shantel and Tracy is that Shantel is Tracy's sister-in-law, provided Samuel is Shantel's partner and Harold’s son.\n",
      "------------------------------------------------\n",
      "To determine the relationship between Angela and Arlene using the provided relationships, let's carefully analyze the relationships step by step.\n",
      "\n",
      "1. **Angela, has daughter, Nancy**: \n",
      "   - This means Angela is Nancy's mother.\n",
      "\n",
      "2. **Hattie, has sister, Nancy**:\n",
      "   - This means Hattie and Nancy are siblings, i.e., they share at least one parent. Since Nancy is Angela's daughter, Hattie is also Angela's daughter. Therefore, Angela is Hattie's mother.\n",
      "\n",
      "3. **Milton, has daughter, Arlene**:\n",
      "   - This means Milton is Arlene's father.\n",
      "\n",
      "4. **Hattie, has father, Samuel**:\n",
      "   - This means Samuel is Hattie's father, making Samuel Nancy's father as well because Hattie and Nancy are sisters.\n",
      "\n",
      "5. **Samuel, has brother, Milton**:\n",
      "   - This means Samuel and Milton are brothers.\n",
      "\n",
      "From the above, we know:\n",
      "- Angela and Samuel are Nancy and Hattie’s parents (since Angela is the mother and Samuel is the father).\n",
      "- Samuel and Milton are brothers.\n",
      "- Milton is Arlene's father.\n",
      "\n",
      "Therefore, Arlene is Nancy and Hattie's cousin. Since Angela is Nancy and Hattie's mother, Angela is Arlene's aunt.\n",
      "\n",
      "Thus, the relationship between Angela and Arlene is:\n",
      "- Angela is Arlene's aunt.\n",
      "------------------------------------------------\n"
     ]
    }
   ],
   "execution_count": 8
  },
  {
   "metadata": {},
   "cell_type": "code",
   "outputs": [],
   "execution_count": null,
   "source": [
    "# answer for 1 :- father (correct)\n",
    "# answer for 2 :- mother (correct)\n",
    "# answer for 3 :- daughter (wrong)\n",
    "# answer for 3 :- niece (correct)"
   ],
   "id": "fb1e180c638d3e95"
  }
 ],
 "metadata": {
  "kernelspec": {
   "display_name": "Python 3",
   "language": "python",
   "name": "python3"
  },
  "language_info": {
   "codemirror_mode": {
    "name": "ipython",
    "version": 2
   },
   "file_extension": ".py",
   "mimetype": "text/x-python",
   "name": "python",
   "nbconvert_exporter": "python",
   "pygments_lexer": "ipython2",
   "version": "2.7.6"
  }
 },
 "nbformat": 4,
 "nbformat_minor": 5
}
