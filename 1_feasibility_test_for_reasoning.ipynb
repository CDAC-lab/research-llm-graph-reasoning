{
 "cells": [
  {
   "metadata": {},
   "cell_type": "markdown",
   "source": "## 1. Using just triplets",
   "id": "c487b0f1ec24a569"
  },
  {
   "cell_type": "code",
   "id": "initial_id",
   "metadata": {
    "collapsed": true,
    "jupyter": {
     "outputs_hidden": true
    },
    "ExecuteTime": {
     "end_time": "2025-05-13T16:11:27.366652Z",
     "start_time": "2025-05-13T16:11:24.273453Z"
    }
   },
   "source": [
    "import os\n",
    "from dotenv import load_dotenv\n",
    "from langchain_openai import ChatOpenAI\n",
    "from langchain_core.output_parsers import StrOutputParser\n",
    "from langchain_core.prompts import ChatPromptTemplate\n",
    "from langchain_core.globals import set_debug, set_verbose, set_llm_cache\n",
    "from langchain_community.cache import InMemoryCache\n",
    "\n",
    "set_debug(False)\n",
    "set_verbose(False)\n",
    "set_llm_cache(InMemoryCache())"
   ],
   "outputs": [],
   "execution_count": 1
  },
  {
   "cell_type": "code",
   "id": "4d0579793acfec9e",
   "metadata": {
    "ExecuteTime": {
     "end_time": "2025-05-13T16:11:28.238131Z",
     "start_time": "2025-05-13T16:11:28.196011Z"
    }
   },
   "source": [
    "load_dotenv()\n",
    "openai_api_key = os.getenv(\"OPENAI_API_KEY\")\n",
    "\n",
    "model = ChatOpenAI(\n",
    "    model=\"gpt-4o\",\n",
    "    api_key=openai_api_key\n",
    ")"
   ],
   "outputs": [],
   "execution_count": 2
  },
  {
   "cell_type": "code",
   "id": "794e21d1b27219ac",
   "metadata": {
    "ExecuteTime": {
     "end_time": "2025-05-13T16:11:30.821207Z",
     "start_time": "2025-05-13T16:11:30.809142Z"
    }
   },
   "source": [
    "prompt_str = (\n",
    "    f\"You are an expert in understanding family relationships.\"\n",
    "    f\"You are given a list of relationships between individuals in the form of (Person A, Relationship, Person B)\"\n",
    "    f\"Your task is to figure out the relationship :- {{question}}\"\n",
    "    f\"\"\n",
    "    f\"list of relationships :\"\n",
    "    f\"{{relationships}} are given a list of relationships as tripples\"\n",
    ")\n",
    "\n",
    "prompt = ChatPromptTemplate.from_template(prompt_str)"
   ],
   "outputs": [],
   "execution_count": 3
  },
  {
   "cell_type": "code",
   "id": "c1f322d53e9f0aca",
   "metadata": {
    "ExecuteTime": {
     "end_time": "2025-05-13T16:11:33.033812Z",
     "start_time": "2025-05-13T16:11:33.023191Z"
    }
   },
   "source": [
    "inputs = [\n",
    "    {\n",
    "        \"relationships\": (\n",
    "            \"(Bernardo, has father, Antonio),\"\n",
    "            \"(Antonio, has son, Bernardo),\"\n",
    "            \"(Antonio, has father, Harold),\"\n",
    "            \"(Harold, has son, Antonio),\"\n",
    "            \"(Antonio, has mother, Shantel),\"\n",
    "            \"(Shantel, has son, Antonio),\"\n",
    "            \"(Shantel, has daughter, Marie),\"\n",
    "            \"(Marie, has mother, Shantel)\"\n",
    "        ),\n",
    "        \"question\": \"Harold is Marie's ____\"\n",
    "    },\n",
    "    {\n",
    "        \"relationships\": (\n",
    "            \"(Robert, has brother, Antonio),\"\n",
    "            \"(Robert, has daughter, Michelle),\"\n",
    "            \"(Marie, has daughter, Michelle),\"\n",
    "            \"(Marie, has baby, Baby),\"\n",
    "            \"(Marie, has mother, Shantel),\"\n",
    "            \"(Shantel, has granddaughter, Baby)\"\n",
    "        ),\n",
    "        \"question\": \"Shantel is Antonio's ____\"\n",
    "    },\n",
    "    {\n",
    "        \"relationships\": (\n",
    "            \"(Samuel, has grandfather, Harold),\"\n",
    "            \"(Shantel, has son, Louis),\"\n",
    "            \"(Harold, has daughter, Tracy),\"\n",
    "            \"(Samuel, has son, Louis)\"\n",
    "        ),\n",
    "        \"question\": \"Tracy is Shantel's ____\"\n",
    "    },\n",
    "    {\n",
    "        \"relationships\": (\n",
    "            \"(Angela, has daughter, Nancy),\"\n",
    "            \"(Hattie, has father, Samuel),\"\n",
    "            \"(Samuel, has brother, Milton),\"\n",
    "            \"(Hattie, has sister, Nancy),\"\n",
    "            \"(Milton, has daughter, Arlene)\"\n",
    "        ),\n",
    "        \"question\": \"Arlene is Angela's ____\"\n",
    "    }\n",
    "]"
   ],
   "outputs": [],
   "execution_count": 4
  },
  {
   "cell_type": "code",
   "id": "24b7b57c58ee1699",
   "metadata": {
    "ExecuteTime": {
     "end_time": "2025-05-13T16:11:34.879641Z",
     "start_time": "2025-05-13T16:11:34.869039Z"
    }
   },
   "source": "chain = prompt | model | StrOutputParser()",
   "outputs": [],
   "execution_count": 5
  },
  {
   "cell_type": "code",
   "id": "76668d3b5f58f8bf",
   "metadata": {
    "ExecuteTime": {
     "end_time": "2025-05-13T16:11:41.330525Z",
     "start_time": "2025-05-13T16:11:35.508917Z"
    }
   },
   "source": [
    "answers_list = chain.batch(inputs)"
   ],
   "outputs": [],
   "execution_count": 6
  },
  {
   "cell_type": "code",
   "id": "5eef5d7e94ef73a6",
   "metadata": {
    "ExecuteTime": {
     "end_time": "2025-05-13T16:11:42.523013Z",
     "start_time": "2025-05-13T16:11:42.512509Z"
    }
   },
   "source": [
    "for ans in answers_list:\n",
    "    print(ans)\n",
    "    print(\"------------------------------------------------\")"
   ],
   "outputs": [
    {
     "name": "stdout",
     "output_type": "stream",
     "text": [
      "To determine Harold's relationship to Marie, let's first outline the family relationships based on the information provided:\n",
      "\n",
      "1. (Bernardo, has father, Antonio) → Antonio is Bernardo's father.\n",
      "2. (Antonio, has son, Bernardo) → Bernardo is Antonio's son.\n",
      "3. (Antonio, has father, Harold) → Harold is Antonio's father.\n",
      "4. (Harold, has son, Antonio) → Antonio is Harold's son.\n",
      "5. (Antonio, has mother, Shantel) → Shantel is Antonio's mother.\n",
      "6. (Shantel, has son, Antonio) → Antonio is Shantel’s son.\n",
      "7. (Shantel, has daughter, Marie) → Marie is Shantel’s daughter.\n",
      "8. (Marie, has mother, Shantel) → Shantel is Marie’s mother.\n",
      "\n",
      "From these relationships, we can conclude the following:\n",
      "\n",
      "- Harold is Antonio's father (from 3 and 4).\n",
      "- Shantel is both Antonio's mother and Marie's mother (from 5, 6, 7, and 8). Therefore, Antonio and Marie are siblings.\n",
      "\n",
      "Since Harold is Antonio’s father and Marie is Antonio’s sister, this makes Harold Marie’s father.\n",
      "\n",
      "Therefore, Harold is Marie's father.\n",
      "------------------------------------------------\n",
      "To determine Shantel's relationship to Antonio, we need to analyze the provided relationships:\n",
      "\n",
      "1. (Robert, has brother, Antonio) - Robert and Antonio are brothers.\n",
      "2. (Robert, has daughter, Michelle) - Robert is the father of Michelle, so Michelle is Antonio's niece.\n",
      "3. (Marie, has daughter, Michelle) - Marie is the mother of Michelle, so Marie is Robert's wife (and therefore Antonio's sister-in-law).\n",
      "4. (Marie, has baby, Baby) - Marie is the mother of Baby.\n",
      "5. (Marie, has mother, Shantel) - Shantel is the mother of Marie, making Shantel the grandmother of Michelle and Baby.\n",
      "6. (Shantel, has granddaughter, Baby) - Confirms that Shantel is Baby's grandmother.\n",
      "\n",
      "From these relationships, we can piece together who Shantel is in relation to Antonio:\n",
      "- Shantel is Marie's mother, making her the mother-in-law of Robert, who is Antonio's brother.\n",
      "- Therefore, Shantel is Antonio's mother-in-law as well.\n",
      "\n",
      "Thus, Shantel is Antonio's mother-in-law.\n",
      "------------------------------------------------\n",
      "To determine Tracy's relationship to Shantel, we need to analyze the given relationships:\n",
      "\n",
      "1. Samuel has a son named Louis.\n",
      "2. Shantel has a son named Louis.\n",
      "3. Since both Samuel and Shantel have a son named Louis, it suggests that Samuel is Shantel's spouse (husband), making them Louis's parents.\n",
      "4. Harold is Samuel’s grandson and Louis’s sibling or relative through their child Tracy, since Samuel also has Tracy as a grandchild (from the relationship between Harold and Tracy being siblings).\n",
      "5. Harold has a daughter named Tracy, so Tracy is Harold's daughter.\n",
      "\n",
      "From these deductions, since Tracy is Harold's daughter and Harold is Louis's sibling, this means Tracy is Louis's sister. Since Louis is Shantel’s son, Tracy is also Shantel's daughter.\n",
      "\n",
      "Therefore, Tracy is Shantel's daughter.\n",
      "------------------------------------------------\n",
      "To determine the relationship between Arlene and Angela, we need to analyze the given relationships:\n",
      "\n",
      "1. (Angela, has daughter, Nancy): Nancy is the daughter of Angela.\n",
      "2. (Hattie, has father, Samuel): Samuel is the father of Hattie.\n",
      "3. (Samuel, has brother, Milton): Milton is the brother of Samuel.\n",
      "4. (Hattie, has sister, Nancy): Nancy is the sister of Hattie.\n",
      "5. (Milton, has daughter, Arlene): Arlene is the daughter of Milton.\n",
      "\n",
      "Let's start tracing the relationships:\n",
      "\n",
      "- From relationship 1 and 4, we know Nancy and Hattie are sisters and share the same parent(s).\n",
      "- From relationship 2, Samuel is the father of Hattie, and by connection, also the father of Nancy.\n",
      "- From relationship 3, Milton is Samuel's brother, making Milton Nancy's and Hattie's uncle.\n",
      "- From relationship 5, Arlene is Milton's daughter.\n",
      "\n",
      "This makes Arlene the cousin of Nancy and Hattie. Since Angela is Nancy's mother, Arlene is Angela's niece.\n",
      "\n",
      "Therefore, Arlene is Angela's niece.\n",
      "------------------------------------------------\n"
     ]
    }
   ],
   "execution_count": 7
  },
  {
   "cell_type": "code",
   "execution_count": null,
   "id": "fb1e180c638d3e95",
   "metadata": {},
   "outputs": [],
   "source": [
    "# answer for 1 :- father (correct)\n",
    "# answer for 2 :- mother (correct)\n",
    "# answer for 3 :- daughter (correct)\n",
    "# answer for 4 :- niece (correct)"
   ]
  },
  {
   "cell_type": "markdown",
   "id": "2cbdf3bc2126f8c6",
   "metadata": {},
   "source": [
    "## 2. Using Falcor"
   ]
  },
  {
   "cell_type": "code",
   "id": "1281c31bfbcf2265",
   "metadata": {
    "ExecuteTime": {
     "end_time": "2025-05-13T16:12:10.606351Z",
     "start_time": "2025-05-13T16:12:10.595831Z"
    }
   },
   "source": [
    "from collections import defaultdict\n",
    "import re\n",
    "import json\n",
    "\n",
    "# Initialize a graph\n",
    "falcor_graph = {\n",
    "    \"persons\": defaultdict(dict)\n",
    "}"
   ],
   "outputs": [],
   "execution_count": 8
  },
  {
   "cell_type": "code",
   "id": "b745fffbd9c0f199",
   "metadata": {
    "ExecuteTime": {
     "end_time": "2025-05-13T16:12:13.550092Z",
     "start_time": "2025-05-13T16:12:13.527890Z"
    }
   },
   "source": [
    "def parse_relationship_string(relationship_str):\n",
    "    # Extract all (subject, predicate, object) triples using regex\n",
    "    triple_pattern = r\"\\(([^,]+),\\s*has ([^,]+),\\s*([^)]+)\\)\"\n",
    "    matches = re.findall(triple_pattern, relationship_str)\n",
    "    return matches\n",
    "    \n",
    "\n",
    "def build_falcor_graph(triples):\n",
    "    graph = {\"persons\": defaultdict(lambda: defaultdict(list))}\n",
    "\n",
    "    for subj, relation, obj in triples:\n",
    "        subj = subj.strip()\n",
    "        obj = obj.strip()\n",
    "        relation = relation.strip().lower() + \"s\"  # plural (e.g., father → fathers)\n",
    "        \n",
    "        # Add the relationship to the graph\n",
    "        graph[\"persons\"][subj][relation].append({\"$ref\": [\"persons\", obj]})\n",
    "    \n",
    "    return graph\n",
    "    \n",
    "i = 0\n",
    "for input_itm in inputs:\n",
    "    input_itm_rel = parse_relationship_string(input_itm[\"relationships\"])\n",
    "    falcor_graph = build_falcor_graph(input_itm_rel)\n",
    "    inputs[i][\"relationships\"] = json.dumps(falcor_graph)\n",
    "    i += 1\n",
    "\n",
    "inputs"
   ],
   "outputs": [
    {
     "data": {
      "text/plain": [
       "[{'relationships': '{\"persons\": {\"Bernardo\": {\"fathers\": [{\"$ref\": [\"persons\", \"Antonio\"]}]}, \"Antonio\": {\"sons\": [{\"$ref\": [\"persons\", \"Bernardo\"]}], \"fathers\": [{\"$ref\": [\"persons\", \"Harold\"]}], \"mothers\": [{\"$ref\": [\"persons\", \"Shantel\"]}]}, \"Harold\": {\"sons\": [{\"$ref\": [\"persons\", \"Antonio\"]}]}, \"Shantel\": {\"sons\": [{\"$ref\": [\"persons\", \"Antonio\"]}], \"daughters\": [{\"$ref\": [\"persons\", \"Marie\"]}]}, \"Marie\": {\"mothers\": [{\"$ref\": [\"persons\", \"Shantel\"]}]}}}',\n",
       "  'question': \"Harold is Marie's ____\"},\n",
       " {'relationships': '{\"persons\": {\"Robert\": {\"brothers\": [{\"$ref\": [\"persons\", \"Antonio\"]}], \"daughters\": [{\"$ref\": [\"persons\", \"Michelle\"]}]}, \"Marie\": {\"daughters\": [{\"$ref\": [\"persons\", \"Michelle\"]}], \"babys\": [{\"$ref\": [\"persons\", \"Baby\"]}], \"mothers\": [{\"$ref\": [\"persons\", \"Shantel\"]}]}, \"Shantel\": {\"granddaughters\": [{\"$ref\": [\"persons\", \"Baby\"]}]}}}',\n",
       "  'question': \"Shantel is Antonio's ____\"},\n",
       " {'relationships': '{\"persons\": {\"Samuel\": {\"grandfathers\": [{\"$ref\": [\"persons\", \"Harold\"]}], \"sons\": [{\"$ref\": [\"persons\", \"Louis\"]}]}, \"Shantel\": {\"sons\": [{\"$ref\": [\"persons\", \"Louis\"]}]}, \"Harold\": {\"daughters\": [{\"$ref\": [\"persons\", \"Tracy\"]}]}}}',\n",
       "  'question': \"Tracy is Shantel's ____\"},\n",
       " {'relationships': '{\"persons\": {\"Angela\": {\"daughters\": [{\"$ref\": [\"persons\", \"Nancy\"]}]}, \"Hattie\": {\"fathers\": [{\"$ref\": [\"persons\", \"Samuel\"]}], \"sisters\": [{\"$ref\": [\"persons\", \"Nancy\"]}]}, \"Samuel\": {\"brothers\": [{\"$ref\": [\"persons\", \"Milton\"]}]}, \"Milton\": {\"daughters\": [{\"$ref\": [\"persons\", \"Arlene\"]}]}}}',\n",
       "  'question': \"Arlene is Angela's ____\"}]"
      ]
     },
     "execution_count": 9,
     "metadata": {},
     "output_type": "execute_result"
    }
   ],
   "execution_count": 9
  },
  {
   "cell_type": "code",
   "id": "73412713-e1c0-488d-a6c4-8427b1544555",
   "metadata": {
    "ExecuteTime": {
     "end_time": "2025-05-13T16:12:38.096057Z",
     "start_time": "2025-05-13T16:12:38.085540Z"
    }
   },
   "source": [
    "prompt_str = (\n",
    "    f\"You are an expert in understanding family relationships.\"\n",
    "    f\"You are given a list of relationships between individuals in Falcor format.\"\n",
    "    f\"Your task is to figure out the relationship :- {{question}}\"\n",
    "    f\"\"\n",
    "    f\"Relationships in Falcor format :\"\n",
    "    f\"{{relationships}}\"\n",
    ")\n",
    "\n",
    "prompt = ChatPromptTemplate.from_template(prompt_str)"
   ],
   "outputs": [],
   "execution_count": 10
  },
  {
   "metadata": {
    "ExecuteTime": {
     "end_time": "2025-05-13T16:12:41.823094Z",
     "start_time": "2025-05-13T16:12:41.811899Z"
    }
   },
   "cell_type": "code",
   "source": "chain = prompt | model | StrOutputParser()",
   "id": "a58087fdcb0dfff6",
   "outputs": [],
   "execution_count": 11
  },
  {
   "metadata": {
    "ExecuteTime": {
     "end_time": "2025-05-13T16:12:51.152540Z",
     "start_time": "2025-05-13T16:12:42.646075Z"
    }
   },
   "cell_type": "code",
   "source": "answers_list = chain.batch(inputs)",
   "id": "29b77bb5af00be43",
   "outputs": [],
   "execution_count": 12
  },
  {
   "metadata": {
    "ExecuteTime": {
     "end_time": "2025-05-13T16:12:54.039371Z",
     "start_time": "2025-05-13T16:12:54.027906Z"
    }
   },
   "cell_type": "code",
   "source": [
    "for ans in answers_list:\n",
    "    print(ans)\n",
    "    print(\"------------------------------------------------\")"
   ],
   "id": "fba70c96bb928b87",
   "outputs": [
    {
     "name": "stdout",
     "output_type": "stream",
     "text": [
      "To determine Harold's relationship with Marie, let's break down the given information:\n",
      "\n",
      "1. Harold has a son, Antonio.\n",
      "2. Antonio is the father of Bernardo and the son of Harold and Shantel.\n",
      "3. Shantel has a daughter, Marie.\n",
      "4. Marie's mother is Shantel.\n",
      "\n",
      "Now, combining these pieces of information:\n",
      "\n",
      "- Harold and Shantel are parents to Antonio.\n",
      "- Shantel is also a parent to Marie, so Antonio and Marie are siblings (sharing Shantel as a common parent).\n",
      "\n",
      "This makes Harold the father of Antonio and the stepfather to Marie (since he is not listed as her biological father), but since we only use the biological relationship in most cases when assessing these terms and based on the given information explicitly linking him as a parent to Antonio but not to Marie, the relationship of Harold to Marie through Shantel and Antonio would commonly be understood as \"father-in-law\" in the broader sense of the family structure.\n",
      "\n",
      "Thus, Harold is Marie's ***stepfather***.\n",
      "------------------------------------------------\n",
      "To determine the relationship between Shantel and Antonio using the provided relationships in Falcor format, let's analyze the information step by step:\n",
      "\n",
      "1. **Robert's Relationships**:\n",
      "   - Robert has a brother named Antonio.\n",
      "   - Robert has a daughter named Michelle.\n",
      "\n",
      "2. **Marie's Relationships**:\n",
      "   - Marie has a daughter named Michelle.\n",
      "   - Marie has a baby referred to as Baby.\n",
      "   - Marie's mother is Shantel.\n",
      "\n",
      "3. **Shantel's Relationships**:\n",
      "   - Shantel has a granddaughter named Baby.\n",
      "\n",
      "From the provided data:\n",
      "- Since Marie's mother is Shantel, Marie is Shantel's daughter.\n",
      "- Since Marie has a baby referred to as Baby, Baby is Shantel's granddaughter.\n",
      "- Since both Robert and Marie have Michelle as their daughter, Michelle is a shared daughter, meaning Robert and Marie are likely a couple.\n",
      "- Therefore, Robert's brother, Antonio, is Marie's brother-in-law.\n",
      "  \n",
      "Thus, combining these relationships, Shantel, who is Marie's mother, becomes the mother-in-law of Marie's husband, Robert. As Robert's brother, Antonio is Shantel's son-in-law's brother, which makes Shantel Antonio's mother-in-law.\n",
      "\n",
      "Therefore, Shantel is Antonio's **Mother-in-law**.\n",
      "------------------------------------------------\n",
      "To determine Tracy's relationship to Shantel, we need to map out the relationships provided in Falcor format:\n",
      "\n",
      "1. Samuel has a son named Louis and a grandfather named Harold.\n",
      "2. Shantel has a son named Louis.\n",
      "3. Harold has a daughter named Tracy.\n",
      "\n",
      "From this information, we can deduce the following:\n",
      "\n",
      "- Since Samuel and Shantel both have a son named Louis, they are likely Louis's parents. Therefore, Samuel and Shantel are partners (or in a similar parental relationship).\n",
      "- Harold, being Samuel's grandfather, suggests that Harold is Samuel's father's father.\n",
      "- Tracy is Harold's daughter, making her Samuel's aunt (since Samuel is Harold's grandson and Tracy is Harold's daughter).\n",
      "\n",
      "Shantel is linked to Harold only indirectly through Samuel, as the mother of Louis and Samuel's partner, but she is not directly connected to Harold as a daughter or granddaughter based on the given data.\n",
      "\n",
      "Therefore, Tracy, being the daughter of Harold and the sister of Samuel's parent, is Shantel's partner's aunt by marriage, making Tracy Shantel's \"aunt-in-law.\"\n",
      "------------------------------------------------\n",
      "To determine the relationship of Arlene to Angela, we need to trace the relationships given in the Falcor format:\n",
      "\n",
      "1. **Angela has a daughter Nancy.** This is directly stated.\n",
      "\n",
      "2. **Hattie is Nancy's sister.** This means that Hattie is also Angela's daughter, as Hattie and Nancy share the same mother.\n",
      "\n",
      "3. **Hattie has a father named Samuel.**\n",
      "\n",
      "4. **Samuel has a brother named Milton.**\n",
      "\n",
      "5. **Milton has a daughter named Arlene.** This makes Arlene the cousin to Hattie's children, as Samuel is Hattie's father and Milton is his brother.\n",
      "\n",
      "Given this information:\n",
      "\n",
      "- Arlene is the daughter of Milton.\n",
      "- Milton is the brother of Samuel.\n",
      "- Samuel is the father of Hattie.\n",
      "- Hattie and Nancy are Angela's daughters.\n",
      "\n",
      "Therefore, Arlene is Angela's niece, because Arlene is the daughter of Angela's brother-in-law Milton.\n",
      "------------------------------------------------\n"
     ]
    }
   ],
   "execution_count": 13
  },
  {
   "metadata": {},
   "cell_type": "code",
   "outputs": [],
   "execution_count": null,
   "source": [
    "# answer for 1 :- father (correct)\n",
    "# answer for 2 :- mother (correct)\n",
    "# answer for 3 :- daughter (incorrect)\n",
    "# answer for 4 :- niece (correct)"
   ],
   "id": "9ed31f3f002761e1"
  }
 ],
 "metadata": {
  "kernelspec": {
   "display_name": "Python 3 (ipykernel)",
   "language": "python",
   "name": "python3"
  },
  "language_info": {
   "codemirror_mode": {
    "name": "ipython",
    "version": 3
   },
   "file_extension": ".py",
   "mimetype": "text/x-python",
   "name": "python",
   "nbconvert_exporter": "python",
   "pygments_lexer": "ipython3",
   "version": "3.10.14"
  }
 },
 "nbformat": 4,
 "nbformat_minor": 5
}
